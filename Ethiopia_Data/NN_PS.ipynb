{
 "cells": [
  {
   "cell_type": "code",
   "execution_count": 154,
   "metadata": {},
   "outputs": [],
   "source": [
    "import numpy as np\n",
    "import pandas as pd\n",
    "import tensorflow as tf\n",
    "from tensorflow.python.framework import ops\n",
    "from sklearn.model_selection import train_test_split\n",
    "import matplotlib.pyplot as plt"
   ]
  },
  {
   "cell_type": "code",
   "execution_count": 155,
   "metadata": {},
   "outputs": [],
   "source": [
    "# loading data\n",
    "data = pd.read_csv(\n",
    "    \"/Users/yamadaikuya/Desktop/Research/Codes/csv/interactions.csv\",\n",
    "    )"
   ]
  },
  {
   "cell_type": "code",
   "execution_count": 156,
   "metadata": {},
   "outputs": [],
   "source": [
    "data = data.dropna(subset=['Age', 'female', 'Years_of_Schooling', 'Math_Score',\n",
    "       'parents_are_farmers', 'born_in_this_village', 'Risk_averse',\n",
    "       'Competitive', 'Absolute_Overconfidence', 'Relative_Overconfidence', \"Cut_Flower\"])"
   ]
  },
  {
   "cell_type": "code",
   "execution_count": 157,
   "metadata": {},
   "outputs": [],
   "source": [
    "data = data.drop(['type_', 'ln_workers_income_bf', 'ln_workers_income_cu',\n",
    "       'save_rate'], axis=1)"
   ]
  },
  {
   "cell_type": "code",
   "execution_count": 158,
   "metadata": {},
   "outputs": [
    {
     "name": "stdout",
     "output_type": "stream",
     "text": [
      "(289, 55) (289, 1)\n",
      "<class 'numpy.ndarray'>\n"
     ]
    }
   ],
   "source": [
    "# dataframe -> numpy.array\n",
    "Y = data.loc[:, [\"Cut_Flower\"]].values\n",
    "X = data.drop([\"Cut_Flower\"], axis=1).values\n",
    "print(X.shape, Y.shape)\n",
    "print(type(X))"
   ]
  },
  {
   "cell_type": "code",
   "execution_count": 159,
   "metadata": {},
   "outputs": [],
   "source": [
    "def sigmoid(z):\n",
    "    x = tf.placeholder(tf.float32, name=\"x\")\n",
    "    sigmoid = tf.sigmoid(x)\n",
    "    sess = tf.Session()\n",
    "    result = sess.run(sigmoid, feed_dict={x: z})\n",
    "    sess.close()\n",
    "    return result"
   ]
  },
  {
   "cell_type": "code",
   "execution_count": 160,
   "metadata": {},
   "outputs": [],
   "source": [
    "def cost(logits, labels):\n",
    "    z = tf.placeholder(tf.float32, name=\"z\")\n",
    "    y = tf.placeholder(tf.float32, name=\"y\")\n",
    "    cost = tf.nn.sigmoid_cross_entropy_with_logits(labels=y, logits=z)\n",
    "    sess = tf.Session()\n",
    "    cost = sess.run(cost, feed_dict={y: labels, z: logits})\n",
    "    sess.close()\n",
    "    return cost"
   ]
  },
  {
   "cell_type": "code",
   "execution_count": 161,
   "metadata": {},
   "outputs": [
    {
     "name": "stdout",
     "output_type": "stream",
     "text": [
      "cost =[1.0053872  1.0366409  0.41385433 0.39956614]\n"
     ]
    }
   ],
   "source": [
    "logits = sigmoid(np.array([0.2, 0.4, 0.7, 0.9]))\n",
    "cost = cost(logits, np.array([0,0,1,1]))\n",
    "print(\"cost =\" + str(cost))"
   ]
  },
  {
   "cell_type": "code",
   "execution_count": 162,
   "metadata": {},
   "outputs": [],
   "source": [
    "# n_x, n_y = nbr of variables\n",
    "def create_placeholders(n_x, n_y):\n",
    "    X = tf.placeholder(dtype=tf.float32, shape=[n_x, None])\n",
    "    Y = tf.placeholder(dtype=tf.float32, shape=[n_y, None])\n",
    "    return X, Y"
   ]
  },
  {
   "cell_type": "code",
   "execution_count": 198,
   "metadata": {},
   "outputs": [],
   "source": [
    "# Initializing the parameters \n",
    "# Determin the shape of hidden layers\n",
    "def initialize_parameters():\n",
    "    \n",
    "    tf.set_random_seed(1)\n",
    "    \n",
    "    W1 = tf.get_variable(\"W1\", [32, 55], initializer=tf.contrib.layers.xavier_initializer(seed=1))\n",
    "    b1 = tf.get_variable(\"b1\", [32, 1], initializer=tf.zeros_initializer())\n",
    "    W2 = tf.get_variable(\"W2\", [16, 32], initializer=tf.contrib.layers.xavier_initializer(seed=1))\n",
    "    b2 = tf.get_variable(\"b2\", [16, 1], initializer=tf.zeros_initializer())\n",
    "    W3 = tf.get_variable(\"W3\", [1, 16], initializer=tf.contrib.layers.xavier_initializer(seed=1))\n",
    "    b3 = tf.get_variable(\"b3\", [1, 1], initializer=tf.zeros_initializer())\n",
    "    \n",
    "    parameters={\n",
    "        \"W1\": W1,\n",
    "        \"b1\": b1,\n",
    "        \"W2\": W2,\n",
    "        \"b2\": b2,\n",
    "        \"W3\": W3,\n",
    "        \"b3\": b3\n",
    "    }\n",
    "    \n",
    "    return parameters"
   ]
  },
  {
   "cell_type": "code",
   "execution_count": 199,
   "metadata": {},
   "outputs": [],
   "source": [
    "def forward_propagation(X, parameters):\n",
    "    # retrieve parameters\n",
    "    W1 = parameters['W1']\n",
    "    b1 = parameters['b1']\n",
    "    W2 = parameters['W2']\n",
    "    b2 = parameters['b2']\n",
    "    W3 = parameters[\"W3\"]\n",
    "    b3 = parameters[\"b3\"]\n",
    "    \n",
    "    Z1 = tf.add(tf.matmul(W1, X), b1)\n",
    "    A1 = tf.nn.relu(Z1)                   \n",
    "    Z2 = tf.add(tf.matmul(W2, A1), b2)\n",
    "    A2 = tf.nn.relu(Z2)\n",
    "    Z3 = tf.add(tf.matmul(W3, A2), b3)\n",
    "    \n",
    "    return Z3"
   ]
  },
  {
   "cell_type": "code",
   "execution_count": 200,
   "metadata": {},
   "outputs": [],
   "source": [
    "def compute_cost(Z3, Y):\n",
    "    logits = tf.transpose(Z3)\n",
    "    labels = tf.transpose(Y)\n",
    "    cost = tf.reduce_mean(tf.nn.sigmoid_cross_entropy_with_logits(logits=logits, labels=labels))\n",
    "    return cost"
   ]
  },
  {
   "cell_type": "code",
   "execution_count": 201,
   "metadata": {},
   "outputs": [
    {
     "name": "stdout",
     "output_type": "stream",
     "text": [
      "Z2 = Tensor(\"Add_2:0\", shape=(1, ?), dtype=float32)\n",
      "cost = Tensor(\"Mean:0\", shape=(), dtype=float32)\n"
     ]
    }
   ],
   "source": [
    "# check the behavior\n",
    "tf.reset_default_graph()\n",
    "sess = tf.Session()\n",
    "a, b = create_placeholders(55, 1)\n",
    "parameters = initialize_parameters()\n",
    "Z3 = forward_propagation(a, parameters)\n",
    "cost = compute_cost(Z3, b)\n",
    "print(\"Z2 = {}\".format(str(Z3)))\n",
    "print(\"cost = {}\".format(str(cost)))"
   ]
  },
  {
   "cell_type": "code",
   "execution_count": 202,
   "metadata": {},
   "outputs": [],
   "source": [
    "# Divide dataset \n",
    "X_train, X_test, Y_train, Y_test = train_test_split(\n",
    "X, Y, test_size = 0.33, random_state = 1\n",
    ")"
   ]
  },
  {
   "cell_type": "code",
   "execution_count": 203,
   "metadata": {},
   "outputs": [],
   "source": [
    "X_train = X_train.T\n",
    "X_test = X_test.T\n",
    "Y_train = Y_train.T\n",
    "Y_test = Y_test.T"
   ]
  },
  {
   "cell_type": "code",
   "execution_count": 204,
   "metadata": {},
   "outputs": [
    {
     "name": "stdout",
     "output_type": "stream",
     "text": [
      "(55, 193)\n",
      "(1, 193)\n"
     ]
    }
   ],
   "source": [
    "print(X_train.shape)\n",
    "print(Y_train.shape)"
   ]
  },
  {
   "cell_type": "code",
   "execution_count": 214,
   "metadata": {},
   "outputs": [],
   "source": [
    "def model(X_train, Y_train, X_test, Y_test, num_epochs, learning_rate = 0.001,\n",
    "         minibatch_size = 32, print_cost = True):\n",
    "    \n",
    "    ops.reset_default_graph()  # to be able to rerun the model without overwriting tf variables\n",
    "    tf.set_random_seed(1)\n",
    "    (n_x, m) = X_train.shape\n",
    "    n_y = Y_train.shape[0]\n",
    "    costs = []\n",
    "    \n",
    "    X, Y = create_placeholders(n_x, n_y)\n",
    "    \n",
    "    parameters = initialize_parameters()\n",
    "    \n",
    "    Z3 = forward_propagation(X, parameters)\n",
    "    \n",
    "    cost = compute_cost(Z3, Y)\n",
    "    \n",
    "    optimizer = tf.train.AdadeltaOptimizer(learning_rate=learning_rate).minimize(cost)\n",
    "    \n",
    "    init = tf.global_variables_initializer()\n",
    "    \n",
    "    sess = tf.Session()\n",
    "    sess.run(init)\n",
    "    \n",
    "    for epoch in range(num_epochs+1):\n",
    "        \n",
    "        _, c = sess.run([optimizer, cost], feed_dict={X: X_train, Y: Y_train})\n",
    "        \n",
    "        epoch_cost = c\n",
    "        \n",
    "        if epoch % 1000 == 0:\n",
    "            print(\"Cost after epoch %i: %f\"%(epoch, epoch_cost))\n",
    "        if epoch % 5 == 0:\n",
    "            costs.append(epoch_cost)\n",
    "    \n",
    "    # plot the cost\n",
    "    plt.plot(np.squeeze(costs))\n",
    "    plt.ylabel('cost')\n",
    "    plt.xlabel('iterations (per tens)')\n",
    "    plt.title(\"Learning rate =\" + str(learning_rate))\n",
    "    plt.show()\n",
    "    \n",
    "    # lets save the parameters in a variable\n",
    "    print(type(parameters))\n",
    "    parameters = sess.run(parameters)\n",
    "    print (\"Parameters have been trained!\")\n",
    "\n",
    "    # Calculate the correct predictions\n",
    "    correct_prediction = tf.equal(tf.round(tf.sigmoid(Z3)), Y)\n",
    "\n",
    "    # Calculate accuracy on the test set\n",
    "    accuracy = tf.reduce_mean(tf.cast(correct_prediction, \"float\"))\n",
    "    #print(sess.run(tf.round(tf.sigmoid(Z2)), {X: X_train}))\n",
    "    print (\"Train Accuracy:\", accuracy.eval({X: X_train, Y: Y_train}, session=sess))\n",
    "    print (\"Test Accuracy:\", accuracy.eval({X: X_test, Y: Y_test}, session=sess))\n",
    "\n",
    "    return parameters"
   ]
  },
  {
   "cell_type": "code",
   "execution_count": 174,
   "metadata": {},
   "outputs": [
    {
     "name": "stdout",
     "output_type": "stream",
     "text": [
      "0.33333334\n"
     ]
    }
   ],
   "source": [
    "s = tf.Session()\n",
    "a = [0.501, 0.6,0.1]\n",
    "b = [0, 1,1]\n",
    "acc = tf.reduce_mean(tf.cast(tf.equal(tf.round(a), b),\"float\"))\n",
    "print(s.run(acc))"
   ]
  },
  {
   "cell_type": "code",
   "execution_count": 215,
   "metadata": {},
   "outputs": [
    {
     "name": "stdout",
     "output_type": "stream",
     "text": [
      "Cost after epoch 0: 17.021378\n",
      "Cost after epoch 1000: 9.664356\n",
      "Cost after epoch 2000: 2.808422\n",
      "Cost after epoch 3000: 0.912572\n",
      "Cost after epoch 4000: 0.374888\n",
      "Cost after epoch 5000: 0.193485\n",
      "Cost after epoch 6000: 0.119534\n",
      "Cost after epoch 7000: 0.084123\n",
      "Cost after epoch 8000: 0.062196\n",
      "Cost after epoch 9000: 0.046706\n",
      "Cost after epoch 10000: 0.034830\n"
     ]
    },
    {
     "data": {
      "image/png": "[encoded data removed]",
      "text/plain": [
       "<Figure size 432x288 with 1 Axes>"
      ]
     },
     "metadata": {
      "needs_background": "light"
     },
     "output_type": "display_data"
    },
    {
     "name": "stdout",
     "output_type": "stream",
     "text": [
      "<class 'dict'>\n",
      "Parameters have been trained!\n",
      "Train Accuracy: 1.0\n",
      "Test Accuracy: 0.5416667\n"
     ]
    }
   ],
   "source": [
    "parameters = model(X_train, Y_train, X_test, Y_test, num_epochs=10000, learning_rate=0.01)"
   ]
  }
 ],
 "metadata": {
  "kernelspec": {
   "display_name": "Python 3",
   "language": "python",
   "name": "python3"
  },
  "language_info": {
   "codemirror_mode": {
    "name": "ipython",
    "version": 3
   },
   "file_extension": ".py",
   "mimetype": "text/x-python",
   "name": "python",
   "nbconvert_exporter": "python",
   "pygments_lexer": "ipython3",
   "version": "3.6.8"
  }
 },
 "nbformat": 4,
 "nbformat_minor": 2
}
