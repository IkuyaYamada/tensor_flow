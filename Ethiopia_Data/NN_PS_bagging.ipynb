{
 "cells": [
  {
   "cell_type": "code",
   "execution_count": 204,
   "metadata": {},
   "outputs": [],
   "source": [
    "import numpy as np\n",
    "import pandas as pd\n",
    "import tensorflow as tf\n",
    "from tensorflow.python.framework import ops\n",
    "from sklearn.model_selection import train_test_split\n",
    "import matplotlib.pyplot as plt"
   ]
  },
  {
   "cell_type": "code",
   "execution_count": 205,
   "metadata": {},
   "outputs": [],
   "source": [
    "# loading data\n",
    "data = pd.read_csv(\n",
    "    \"/Users/yamadaikuya/Desktop/Research/Codes/Ethiopia/csv/interactions.csv\",\n",
    "    )\n",
    "\n",
    "#data = pd.read_csv(\n",
    "#    \"/Users/yamadaikuya/Desktop/Research/Codes/Ethiopia/csv/pruned.csv\",\n",
    "#    )"
   ]
  },
  {
   "cell_type": "code",
   "execution_count": 206,
   "metadata": {},
   "outputs": [],
   "source": [
    "data = data.dropna(subset=['Age', 'female', 'Years_of_Schooling', 'Math_Score',\n",
    "       'parents_are_farmers', 'born_in_this_village', 'Risk_averse',\n",
    "       'Competitive', 'Absolute_Overconfidence', 'Relative_Overconfidence', \"Cut_Flower\"])"
   ]
  },
  {
   "cell_type": "code",
   "execution_count": 207,
   "metadata": {},
   "outputs": [],
   "source": [
    "data = data.drop(['type_', 'ln_workers_income_bf', 'ln_workers_income_cu',\n",
    "       'save_rate'], axis=1)"
   ]
  },
  {
   "cell_type": "code",
   "execution_count": 208,
   "metadata": {},
   "outputs": [
    {
     "name": "stdout",
     "output_type": "stream",
     "text": [
      "(289, 55) (289, 1)\n"
     ]
    }
   ],
   "source": [
    "# dataframe -> numpy.array\n",
    "Y = data.loc[:, [\"Cut_Flower\"]].values\n",
    "X = data.drop([\"Cut_Flower\"], axis=1).values\n",
    "print(X.shape, Y.shape)"
   ]
  },
  {
   "cell_type": "code",
   "execution_count": 209,
   "metadata": {},
   "outputs": [],
   "source": [
    "# normalization\n",
    "def normalize(x):\n",
    "    xmean = x.mean(axis=0, keepdims=True)\n",
    "    xstd = np.std(x, axis=0, keepdims=True)\n",
    "    zscore = (x - xmean) / xstd\n",
    "    return zscore"
   ]
  },
  {
   "cell_type": "code",
   "execution_count": 210,
   "metadata": {},
   "outputs": [],
   "source": [
    "X = normalize(X)"
   ]
  },
  {
   "cell_type": "code",
   "execution_count": 211,
   "metadata": {},
   "outputs": [],
   "source": [
    "def sigmoid(z):\n",
    "    x = tf.placeholder(tf.float32, name=\"x\")\n",
    "    sigmoid = tf.sigmoid(x)\n",
    "    result = sess.run(sigmoid, feed_dict={x: z})\n",
    "    return result"
   ]
  },
  {
   "cell_type": "code",
   "execution_count": 212,
   "metadata": {},
   "outputs": [],
   "source": [
    "# n_x, n_y = nbr of variables\n",
    "def create_placeholders(n_x, n_y):\n",
    "    X = tf.placeholder(dtype=tf.float32, shape=[n_x, None])\n",
    "    Y = tf.placeholder(dtype=tf.float32, shape=[n_y, None])\n",
    "    return X, Y"
   ]
  },
  {
   "cell_type": "code",
   "execution_count": 213,
   "metadata": {},
   "outputs": [],
   "source": [
    "# Initializing the parameters \n",
    "# Determining the shape of hidden layers\n",
    "def initialize_parameters():\n",
    "    \n",
    "    tf.set_random_seed(198)\n",
    "    \n",
    "    W1 = tf.get_variable(\"W1\", [16, 55], initializer=tf.contrib.layers.xavier_initializer(seed=198))\n",
    "    b1 = tf.get_variable(\"b1\", [16, 1], initializer=tf.zeros_initializer())\n",
    "    W2 = tf.get_variable(\"W2\", [1, 16], initializer=tf.contrib.layers.xavier_initializer(seed=198))\n",
    "    b2 = tf.get_variable(\"b2\", [1, 1], initializer=tf.zeros_initializer())\n",
    "    \n",
    "    parameters={\n",
    "        \"W1\": W1,\n",
    "        \"b1\": b1,\n",
    "        \"W2\": W2,\n",
    "        \"b2\": b2\n",
    "    }\n",
    "    \n",
    "    return parameters"
   ]
  },
  {
   "cell_type": "code",
   "execution_count": 214,
   "metadata": {},
   "outputs": [],
   "source": [
    "def forward_propagation(X, parameters):\n",
    "    # retrieve parameters\n",
    "    W1 = parameters['W1']\n",
    "    b1 = parameters['b1']\n",
    "    W2 = parameters['W2']\n",
    "    b2 = parameters['b2']\n",
    "    \n",
    "    Z1 = tf.add(tf.matmul(W1, X), b1)\n",
    "    A1 = tf.nn.relu(Z1)\n",
    "    Z2 = tf.add(tf.matmul(W2, A1), b2)\n",
    "    \n",
    "    return Z2"
   ]
  },
  {
   "cell_type": "code",
   "execution_count": 215,
   "metadata": {},
   "outputs": [],
   "source": [
    "def compute_cost(Z2, Y):\n",
    "    logits = tf.transpose(Z2)\n",
    "    labels = tf.transpose(Y)\n",
    "    cost = tf.reduce_mean(tf.nn.sigmoid_cross_entropy_with_logits(logits=logits, labels=labels))\n",
    "    return cost"
   ]
  },
  {
   "cell_type": "code",
   "execution_count": 216,
   "metadata": {},
   "outputs": [
    {
     "name": "stdout",
     "output_type": "stream",
     "text": [
      "Z2 = Tensor(\"Add_1:0\", shape=(1, ?), dtype=float32)\n",
      "cost = Tensor(\"Mean:0\", shape=(), dtype=float32)\n"
     ]
    }
   ],
   "source": [
    "# check the behavior\n",
    "tf.reset_default_graph()\n",
    "sess = tf.Session()\n",
    "a, b = create_placeholders(55, 1)\n",
    "parameters = initialize_parameters()\n",
    "Z3 = forward_propagation(a, parameters)\n",
    "cost = compute_cost(Z3, b)\n",
    "print(\"Z2 = {}\".format(str(Z3)))\n",
    "print(\"cost = {}\".format(str(cost)))"
   ]
  },
  {
   "cell_type": "code",
   "execution_count": 218,
   "metadata": {},
   "outputs": [],
   "source": [
    "# Divide dataset \n",
    "def dividing(X, Y, seed=198):\n",
    "    X_train, X_test, Y_train, Y_test = train_test_split(\n",
    "        X, Y, test_size = 0.33, random_state=seed\n",
    "        )\n",
    "    return X_train.T, Y_train.T, X_test.T, Y_test.T"
   ]
  },
  {
   "cell_type": "code",
   "execution_count": 30,
   "metadata": {},
   "outputs": [],
   "source": [
    "# bagging\n",
    "def bagging(X_train, Y_train):\n",
    "    _ = X_train.shape[1]\n",
    "    a = np.random.choice(_, int(_*0.70), replace=False)\n",
    "    return X_train[:, a], Y_train[:, a]"
   ]
  },
  {
   "cell_type": "code",
   "execution_count": 32,
   "metadata": {},
   "outputs": [],
   "source": [
    "# model with bagging\n",
    "def model(X_train, Y_train, X_test, Y_test, num_epochs, learning_rate = 0.001, print_cost = True):\n",
    "    ops.reset_default_graph() # to be able to rerun the model without overwriting tf variables    \n",
    "    tf.set_random_seed(1)\n",
    "    (n_x, m) = X_train.shape\n",
    "    n_y = Y_train.shape[0]\n",
    "    costs = []    \n",
    "    X, Y = create_placeholders(n_x, n_y)\n",
    "    parameters = initialize_parameters()\n",
    "    Z3 = forward_propagation(X, parameters)\n",
    "    cost = compute_cost(Z3, Y)\n",
    "    optimizer = tf.train.AdamOptimizer(learning_rate=learning_rate).minimize(cost)\n",
    "    init = tf.global_variables_initializer()\n",
    "    sess = tf.Session()\n",
    "    sess.run(init)\n",
    "    for epoch in range(num_epochs+1):\n",
    "        x, y = bagging(X_train, Y_train)\n",
    "        _, c = sess.run([optimizer, cost], feed_dict={X: x, Y: y})\n",
    "        epoch_cost = c\n",
    "        if epoch % 5000 == 0 and print_cost==True:\n",
    "            print(\"Cost after epoch %i: %f\"%(epoch, epoch_cost))\n",
    "        if epoch % 10 == 0:\n",
    "            costs.append(epoch_cost)\n",
    "    # plot the cost\n",
    "    plt.plot(np.squeeze(costs))\n",
    "    plt.ylabel('cost')\n",
    "    plt.xlabel('iterations (per tens)')\n",
    "    plt.title(\"Learning rate =\" + str(learning_rate))\n",
    "    plt.show()\n",
    "    \n",
    "    # lets save the parameters in a variable\n",
    "    parameters = sess.run(parameters)\n",
    "    print (\"Parameters have been trained!\")\n",
    "\n",
    "    # Calculate the correct predictions\n",
    "    correct_prediction = tf.equal(tf.round(tf.sigmoid(Z3)), Y)\n",
    "    # Calculate accuracy on the test set\n",
    "    accuracy = tf.reduce_mean(tf.cast(correct_prediction, \"float\"))\n",
    "    print (\"Train Accuracy:\", accuracy.eval({X: X_train, Y: Y_train}, session=sess))\n",
    "    print (\"Test Accuracy:\", accuracy.eval({X: X_test, Y: Y_test}, session=sess))\n",
    "    \n",
    "    output = tf.sigmoid(Z3)\n",
    "    #output = output.eval({X: X.T}, session=sess)\n",
    "\n",
    "    return parameters, output"
   ]
  },
  {
   "cell_type": "code",
   "execution_count": 33,
   "metadata": {},
   "outputs": [
    {
     "data": {
      "image/png": "[encoded data removed]",
      "text/plain": [
       "<Figure size 432x288 with 1 Axes>"
      ]
     },
     "metadata": {
      "needs_background": "light"
     },
     "output_type": "display_data"
    },
    {
     "name": "stdout",
     "output_type": "stream",
     "text": [
      "Parameters have been trained!\n",
      "Train Accuracy: 1.0\n",
      "Test Accuracy: 0.51724136\n"
     ]
    },
    {
     "data": {
      "image/png": "[encoded data removed]",
      "text/plain": [
       "<Figure size 432x288 with 1 Axes>"
      ]
     },
     "metadata": {
      "needs_background": "light"
     },
     "output_type": "display_data"
    },
    {
     "name": "stdout",
     "output_type": "stream",
     "text": [
      "Parameters have been trained!\n",
      "Train Accuracy: 1.0\n",
      "Test Accuracy: 0.55172414\n"
     ]
    }
   ],
   "source": [
    "for i in range(100, 102):\n",
    "    X_train, Y_train, X_test, Y_test = dividing(X, Y, seed=i)\n",
    "    _, output = model(X_train, Y_train, X_test, Y_test, num_epochs= 150000, learning_rate=0.0001, print_cost=False )"
   ]
  },
  {
   "cell_type": "code",
   "execution_count": 56,
   "metadata": {},
   "outputs": [],
   "source": [
    "import requests\n",
    "\n",
    "class LineNotifyAPI:\n",
    "\n",
    "    url = \"https://notify-api.line.me/api/notify\"\n",
    "\n",
    "    def __init__(self, access_token):\n",
    "        self.__headers = {'Authorization': 'Bearer ' + access_token}\n",
    "\n",
    "    def send(self, message, image=None, stickerPackageId=None, stickerId=None):\n",
    "        payload = {\n",
    "        'message': message,\n",
    "        \"stickerPackageId\": stickerPackageId,\n",
    "        \"stickerId\": stickerId,\n",
    "        }\n",
    "        files={}\n",
    "        if image != None:\n",
    "            files = {\"imageFile\": open(image, \"rb\")}\n",
    "        r = requests.post(\n",
    "            url=LineNotifyAPI.url,\n",
    "            headers=self.__headers,\n",
    "            data=payload,\n",
    "            files=files,\n",
    "            )\n",
    "#from Notify_bot import LineNotifyAPI\n",
    "tome_token = 'eemHbY4riW0drjOwx9x2drcjszNEWM2mrbtWWXiIICs' \n",
    "bot = LineNotifyAPI(access_token=tome_token)\n",
    "bot.send(\n",
    "    message=\"Finished!\",\n",
    "    #image=\"/Users/yamadaikuya/Desktop/cat.png\",\n",
    "    stickerPackageId=1, \n",
    "    stickerId=10\n",
    "    )"
   ]
  }
 ],
 "metadata": {
  "kernelspec": {
   "display_name": "Python 3",
   "language": "python",
   "name": "python3"
  },
  "language_info": {
   "codemirror_mode": {
    "name": "ipython",
    "version": 3
   },
   "file_extension": ".py",
   "mimetype": "text/x-python",
   "name": "python",
   "nbconvert_exporter": "python",
   "pygments_lexer": "ipython3",
   "version": "3.6.8"
  }
 },
 "nbformat": 4,
 "nbformat_minor": 2
}
