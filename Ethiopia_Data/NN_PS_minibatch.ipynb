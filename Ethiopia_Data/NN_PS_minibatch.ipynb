{
 "cells": [
  {
   "cell_type": "code",
   "execution_count": 408,
   "metadata": {},
   "outputs": [],
   "source": [
    "import numpy as np\n",
    "import pandas as pd\n",
    "import tensorflow as tf\n",
    "from tensorflow.python.framework import ops\n",
    "from sklearn.model_selection import train_test_split\n",
    "import matplotlib.pyplot as plt\n",
    "from tqdm import tqdm_notebook as tqdm"
   ]
  },
  {
   "cell_type": "code",
   "execution_count": 409,
   "metadata": {},
   "outputs": [
    {
     "data": {
      "text/html": [
       "<style>.scroll_box { height:10**4em  !important; }</style>"
      ],
      "text/plain": [
       "<IPython.core.display.HTML object>"
      ]
     },
     "metadata": {},
     "output_type": "display_data"
    }
   ],
   "source": [
    "from IPython.core.display import display, HTML\n",
    "display(HTML(\"<style>.scroll_box { height:10**4em  !important; }</style>\"))"
   ]
  },
  {
   "cell_type": "code",
   "execution_count": 410,
   "metadata": {},
   "outputs": [],
   "source": [
    "# loading data\n",
    "data = pd.read_csv(\n",
    "    \"/Users/yamadaikuya/Desktop/Research/Codes/Ethiopia/csv/interactions.csv\",\n",
    "    )\n",
    "\n",
    "#data = pd.read_csv(\n",
    "#    \"/Users/yamadaikuya/Desktop/Research/Codes/Ethiopia/csv/pruned.csv\",\n",
    "#    )"
   ]
  },
  {
   "cell_type": "code",
   "execution_count": 411,
   "metadata": {},
   "outputs": [],
   "source": [
    "data = data.dropna(subset=['Age', 'female', 'Years_of_Schooling', 'Math_Score',\n",
    "       'parents_are_farmers', 'born_in_this_village', 'Risk_averse',\n",
    "       'Competitive', 'Absolute_Overconfidence', 'Relative_Overconfidence', \"Cut_Flower\"])"
   ]
  },
  {
   "cell_type": "code",
   "execution_count": 412,
   "metadata": {},
   "outputs": [],
   "source": [
    "data = data.drop(['type_', 'ln_workers_income_bf', 'ln_workers_income_cu',\n",
    "       'save_rate'], axis=1)"
   ]
  },
  {
   "cell_type": "code",
   "execution_count": 413,
   "metadata": {},
   "outputs": [
    {
     "name": "stdout",
     "output_type": "stream",
     "text": [
      "(289, 55) (289, 1)\n"
     ]
    }
   ],
   "source": [
    "# dataframe -> numpy.array\n",
    "Y = data.loc[:, [\"Cut_Flower\"]].values\n",
    "X = data.drop([\"Cut_Flower\"], axis=1).values\n",
    "print(X.shape, Y.shape)"
   ]
  },
  {
   "cell_type": "code",
   "execution_count": 414,
   "metadata": {},
   "outputs": [],
   "source": [
    "# normalization\n",
    "def normalize(x):\n",
    "    xmean = x.mean(axis=0, keepdims=True)\n",
    "    xstd = np.std(x, axis=0, keepdims=True)\n",
    "    zscore = (x - xmean) / xstd\n",
    "    return zscore"
   ]
  },
  {
   "cell_type": "code",
   "execution_count": 415,
   "metadata": {},
   "outputs": [],
   "source": [
    "X = normalize(X)"
   ]
  },
  {
   "cell_type": "code",
   "execution_count": 416,
   "metadata": {},
   "outputs": [],
   "source": [
    "# n_x, n_y = nbr of variables\n",
    "def create_placeholders(n_x, n_y):\n",
    "    X = tf.placeholder(dtype=tf.float32, shape=[n_x, None])\n",
    "    Y = tf.placeholder(dtype=tf.float32, shape=[n_y, None])\n",
    "    return X, Y"
   ]
  },
  {
   "cell_type": "code",
   "execution_count": 430,
   "metadata": {},
   "outputs": [],
   "source": [
    "# Initializing the parameters \n",
    "# Determin the shape of hidden layers\n",
    "def initialize_parameters():\n",
    "    \n",
    "    tf.set_random_seed(198)\n",
    "    \n",
    "    W1 = tf.get_variable(\"W1\", [32, 55], initializer=tf.initializers.he_normal(seed=198))\n",
    "    b1 = tf.get_variable(\"b1\", [32, 1], initializer=tf.zeros_initializer())\n",
    "    W_ = tf.get_variable(\"W_\", [16, 32], initializer=tf.initializers.he_normal(seed=198))\n",
    "    b_ = tf.get_variable(\"b_\", [16, 1], initializer=tf.zeros_initializer())\n",
    "    W2 = tf.get_variable(\"W2\", [1, 16], initializer=tf.initializers.he_normal(seed=198))\n",
    "    b2 = tf.get_variable(\"b2\", [1, 1], initializer=tf.zeros_initializer())\n",
    "    \n",
    "    parameters={\n",
    "        \"W1\": W1,\n",
    "        \"b1\": b1,\n",
    "        \"W_\": W_,\n",
    "        \"b_\": b_,\n",
    "        \"W2\": W2,\n",
    "        \"b2\": b2\n",
    "    }\n",
    "    \n",
    "    return parameters"
   ]
  },
  {
   "cell_type": "code",
   "execution_count": 418,
   "metadata": {},
   "outputs": [],
   "source": [
    "def forward_propagation(X, parameters):\n",
    "    # retrieve parameters\n",
    "    W1 = parameters['W1']\n",
    "    b1 = parameters['b1']\n",
    "    W_ = parameters['W_']\n",
    "    b_ = parameters['b_']\n",
    "    W2 = parameters['W2']\n",
    "    b2 = parameters['b2']\n",
    "    \n",
    "    Z1 = tf.add(tf.matmul(W1, X), b1)\n",
    "    A1 = tf.nn.relu(Z1)  \n",
    "    Z_ = tf.add(tf.matmul(W_, A1), b_)\n",
    "    A_ = tf.nn.relu(Z_)\n",
    "    Z2 = tf.add(tf.matmul(W2, A_), b2)\n",
    "    \n",
    "    return Z2"
   ]
  },
  {
   "cell_type": "code",
   "execution_count": 419,
   "metadata": {},
   "outputs": [],
   "source": [
    "def compute_cost(Z2, Y):\n",
    "    logits = tf.transpose(Z2)\n",
    "    labels = tf.transpose(Y)\n",
    "    cost = tf.reduce_mean(tf.nn.sigmoid_cross_entropy_with_logits(logits=logits, labels=labels))\n",
    "    return cost"
   ]
  },
  {
   "cell_type": "code",
   "execution_count": 420,
   "metadata": {},
   "outputs": [],
   "source": [
    "def l2(W1, W_, W2, lamda=0.01):\n",
    "    return lamda*(tf.nn.l2_loss(W1) + tf.nn.l2_loss(W_) + tf.nn.l2_loss(W2))"
   ]
  },
  {
   "cell_type": "code",
   "execution_count": 433,
   "metadata": {},
   "outputs": [
    {
     "name": "stdout",
     "output_type": "stream",
     "text": [
      "Z2 = Tensor(\"Add_2:0\", shape=(1, ?), dtype=float32)\n",
      "cost = Tensor(\"Mean:0\", shape=(), dtype=float32)\n"
     ]
    }
   ],
   "source": [
    "# check the behavior\n",
    "tf.reset_default_graph()\n",
    "sess = tf.Session()\n",
    "a, b = create_placeholders(55, 1)\n",
    "parameters = initialize_parameters()\n",
    "Z3 = forward_propagation(a, parameters)\n",
    "cost = compute_cost(Z3, b)\n",
    "print(\"Z2 = {}\".format(str(Z3)))\n",
    "print(\"cost = {}\".format(str(cost)))"
   ]
  },
  {
   "cell_type": "code",
   "execution_count": 422,
   "metadata": {},
   "outputs": [],
   "source": [
    "# Divide dataset \n",
    "def dividing(X, Y, seed=198, test_size=0.3):\n",
    "    X_train, X_test, Y_train, Y_test = train_test_split(\n",
    "        X, Y, test_size = test_size, random_state=seed\n",
    "        )\n",
    "    return X_train.T, Y_train.T, X_test.T, Y_test.T"
   ]
  },
  {
   "cell_type": "code",
   "execution_count": 423,
   "metadata": {},
   "outputs": [],
   "source": [
    "# createing mini batches\n",
    "import random\n",
    "def create_minibatch(X, Y, batch_size, seed=198):\n",
    "    random.seed(seed)\n",
    "    X_batch = []\n",
    "    Y_batch = []\n",
    "    _ = [i for i in range(X.shape[1])]\n",
    "    random.shuffle(_)\n",
    "    X = X[:, _]\n",
    "    Y = Y[:, _]\n",
    "    num = X.shape[1] // batch_size\n",
    "    for i in range(num):\n",
    "        X_batch.append(X[:, i*num : i*num + batch_size])\n",
    "        Y_batch.append(Y[:, i*num : i*num + batch_size])\n",
    "    X_batch.append(X[:, num*batch_size : ])\n",
    "    Y_batch.append(Y[:, num*batch_size : ])\n",
    "    return X_batch, Y_batch, num+1"
   ]
  },
  {
   "cell_type": "code",
   "execution_count": 474,
   "metadata": {},
   "outputs": [],
   "source": [
    "# model with minibatch\n",
    "def mini_batch_model(X_train, Y_train, X_test, Y_test, num_epochs, lamda, learning_rate = 0.001, print_cost = True):\n",
    "    ops.reset_default_graph() # to be able to rerun the model without overwriting tf variables    \n",
    "    tf.set_random_seed(1)\n",
    "    (n_x, m) = X_train.shape\n",
    "    n_y = Y_train.shape[0]\n",
    "    costs = []    \n",
    "    costs_test = []\n",
    "    X, Y = create_placeholders(n_x, n_y)\n",
    "    parameters = initialize_parameters()\n",
    "    Z3 = forward_propagation(X, parameters)\n",
    "    W1= parameters[\"W1\"]\n",
    "    W_ = parameters[\"W_\"]\n",
    "    W2 = parameters[\"W2\"]\n",
    "    cost = compute_cost(Z3, Y)\n",
    "    L2 = l2(W1, W_, W2, lamda=lamda)\n",
    "    cost = cost + L2\n",
    "    optimizer = tf.train.AdamOptimizer(learning_rate=learning_rate).minimize(cost)\n",
    "    init = tf.global_variables_initializer()\n",
    "    sess = tf.Session()\n",
    "    sess.run(init)\n",
    "    \n",
    "    # Calculate the correct predictions\n",
    "    correct_prediction = tf.equal(tf.round(tf.sigmoid(Z3)), Y)\n",
    "    # Calculate accuracy on the test set\n",
    "    accuracy = tf.reduce_mean(tf.cast(correct_prediction, \"float\"))\n",
    "    \n",
    "    flag = False\n",
    "    \n",
    "    for epoch in tqdm(range(num_epochs+1)):\n",
    "        x, y, num = create_minibatch(X_train, Y_train, batch_size=32, seed=np.random.randint(10**4))\n",
    "        epoch_cost = 0\n",
    "        for i, k in zip(x, y):\n",
    "            \n",
    "            _, c = sess.run([optimizer, cost], feed_dict={X: i, Y: k})\n",
    "            epoch_cost += c / num\n",
    "        \n",
    "        if epoch % 2000 == 0 and print_cost==True:\n",
    "            print(\"Cost after epoch %i: %f\"%(epoch, epoch_cost))\n",
    "        if epoch % 10 == 0:\n",
    "            epoch_cost_test = sess.run(cost, feed_dict={X: X_test, Y: Y_test})\n",
    "            if len(costs_test) > 1  and epoch_cost_test > np.squeeze(costs_test)[-1] \\\n",
    "            and np.squeeze(costs_test)[-2] > np.squeeze(costs_test)[-1]:\n",
    "                flag = True\n",
    "                print(\"Early Stop!!\")\n",
    "                break\n",
    "            costs.append(epoch_cost)\n",
    "            costs_test.append(epoch_cost_test)\n",
    "        if flag:\n",
    "            break\n",
    "    # plot the cost\n",
    "    plt.plot(np.squeeze(costs), c=\"blue\")\n",
    "    plt.plot(np.squeeze(costs_test), c=\"orange\")\n",
    "    plt.ylabel('cost')\n",
    "    plt.xlabel('epoches (per tens)')\n",
    "    plt.title(\"Learning rate = {}\\nlambda ={}\".format(str(learning_rate), str(lamda)))\n",
    "    plt.show()\n",
    "    \n",
    "    # lets save the parameters in a variable\n",
    "    parameters = sess.run(parameters)\n",
    "    print (\"Parameters have been trained!\")\n",
    "    \n",
    "    print (\"Train Accuracy:\", accuracy.eval({X: X_train, Y: Y_train}, session=sess))\n",
    "    print (\"Test Accuracy:\", accuracy.eval({X: X_test, Y: Y_test}, session=sess))\n",
    "    \n",
    "    output = tf.sigmoid(Z3)\n",
    "\n",
    "    return parameters, output"
   ]
  },
  {
   "cell_type": "code",
   "execution_count": 476,
   "metadata": {},
   "outputs": [
    {
     "data": {
      "application/vnd.jupyter.widget-view+json": {
       "model_id": "a229d430b3d54e709569966f6dd6f932",
       "version_major": 2,
       "version_minor": 0
      },
      "text/plain": [
       "HBox(children=(IntProgress(value=0, max=10001), HTML(value='')))"
      ]
     },
     "metadata": {},
     "output_type": "display_data"
    },
    {
     "name": "stdout",
     "output_type": "stream",
     "text": [
      "Early Stop!!\n"
     ]
    },
    {
     "data": {
      "image/png": "[encoded data removed]",
      "text/plain": [
       "<Figure size 432x288 with 1 Axes>"
      ]
     },
     "metadata": {
      "needs_background": "light"
     },
     "output_type": "display_data"
    },
    {
     "name": "stdout",
     "output_type": "stream",
     "text": [
      "Parameters have been trained!\n",
      "Train Accuracy: 0.9027778\n",
      "Test Accuracy: 0.55172414\n"
     ]
    },
    {
     "data": {
      "application/vnd.jupyter.widget-view+json": {
       "model_id": "7f500d42595d4e1caf5552acce6a06c3",
       "version_major": 2,
       "version_minor": 0
      },
      "text/plain": [
       "HBox(children=(IntProgress(value=0, max=10001), HTML(value='')))"
      ]
     },
     "metadata": {},
     "output_type": "display_data"
    },
    {
     "name": "stdout",
     "output_type": "stream",
     "text": [
      "Early Stop!!\n"
     ]
    },
    {
     "data": {
      "image/png": "[encoded data removed]",
      "text/plain": [
       "<Figure size 432x288 with 1 Axes>"
      ]
     },
     "metadata": {
      "needs_background": "light"
     },
     "output_type": "display_data"
    },
    {
     "name": "stdout",
     "output_type": "stream",
     "text": [
      "Parameters have been trained!\n",
      "Train Accuracy: 0.9166667\n",
      "Test Accuracy: 0.55172414\n"
     ]
    },
    {
     "data": {
      "application/vnd.jupyter.widget-view+json": {
       "model_id": "3044f96402a74dbf8b6069fb7ef8dd44",
       "version_major": 2,
       "version_minor": 0
      },
      "text/plain": [
       "HBox(children=(IntProgress(value=0, max=10001), HTML(value='')))"
      ]
     },
     "metadata": {},
     "output_type": "display_data"
    },
    {
     "name": "stdout",
     "output_type": "stream",
     "text": [
      "Early Stop!!\n"
     ]
    },
    {
     "data": {
      "image/png": "[encoded data removed]",
      "text/plain": [
       "<Figure size 432x288 with 1 Axes>"
      ]
     },
     "metadata": {
      "needs_background": "light"
     },
     "output_type": "display_data"
    },
    {
     "name": "stdout",
     "output_type": "stream",
     "text": [
      "Parameters have been trained!\n",
      "Train Accuracy: 0.9027778\n",
      "Test Accuracy: 0.537931\n"
     ]
    }
   ],
   "source": [
    "X_train, Y_train, X_test, Y_test = dividing(X, Y, seed=198, test_size=0.5)\n",
    "for i,k,m in zip(\n",
    "    [0.09, 0.08, 0.07], [0.00003]*3, [10000, 10000, 10000]\n",
    "    ):\n",
    "            parameters, output = mini_batch_model(X_train, Y_train, X_test, Y_test, num_epochs=m,\n",
    "                                      lamda=i, learning_rate=k, print_cost=False)"
   ]
  },
  {
   "cell_type": "code",
   "execution_count": 468,
   "metadata": {},
   "outputs": [
    {
     "ename": "NameError",
     "evalue": "name 'n_x' is not defined",
     "output_type": "error",
     "traceback": [
      "\u001b[0;31m---------------------------------------------------------------------------\u001b[0m",
      "\u001b[0;31mNameError\u001b[0m                                 Traceback (most recent call last)",
      "\u001b[0;32m<ipython-input-468-d14f3c3bbfcd>\u001b[0m in \u001b[0;36m<module>\u001b[0;34m\u001b[0m\n\u001b[1;32m      2\u001b[0m \u001b[0minit\u001b[0m \u001b[0;34m=\u001b[0m \u001b[0mtf\u001b[0m\u001b[0;34m.\u001b[0m\u001b[0mglobal_variables_initializer\u001b[0m\u001b[0;34m(\u001b[0m\u001b[0;34m)\u001b[0m\u001b[0;34m\u001b[0m\u001b[0;34m\u001b[0m\u001b[0m\n\u001b[1;32m      3\u001b[0m \u001b[0ms\u001b[0m\u001b[0;34m.\u001b[0m\u001b[0mrun\u001b[0m\u001b[0;34m(\u001b[0m\u001b[0minit\u001b[0m\u001b[0;34m)\u001b[0m\u001b[0;34m\u001b[0m\u001b[0;34m\u001b[0m\u001b[0m\n\u001b[0;32m----> 4\u001b[0;31m \u001b[0ms\u001b[0m\u001b[0;34m.\u001b[0m\u001b[0mrun\u001b[0m\u001b[0;34m(\u001b[0m\u001b[0moutput\u001b[0m\u001b[0;34m,\u001b[0m \u001b[0mfeed_dict\u001b[0m\u001b[0;34m=\u001b[0m\u001b[0;34m{\u001b[0m\u001b[0mn_x\u001b[0m\u001b[0;34m:\u001b[0m \u001b[0mX\u001b[0m\u001b[0;34m}\u001b[0m\u001b[0;34m)\u001b[0m\u001b[0;34m\u001b[0m\u001b[0;34m\u001b[0m\u001b[0m\n\u001b[0m",
      "\u001b[0;31mNameError\u001b[0m: name 'n_x' is not defined"
     ]
    }
   ],
   "source": [
    "s = tf.Session()\n",
    "init = tf.global_variables_initializer()\n",
    "s.run(init)\n",
    "s.run(output, feed_dict={: X})"
   ]
  },
  {
   "cell_type": "code",
   "execution_count": null,
   "metadata": {},
   "outputs": [],
   "source": [
    "import requests\n",
    "\n",
    "class LineNotifyAPI:\n",
    "\n",
    "    url = \"https://notify-api.line.me/api/notify\"\n",
    "\n",
    "    def __init__(self, access_token):\n",
    "        self.__headers = {'Authorization': 'Bearer ' + access_token}\n",
    "\n",
    "    def send(self, message, image=None, stickerPackageId=None, stickerId=None):\n",
    "        payload = {\n",
    "        'message': message,\n",
    "        \"stickerPackageId\": stickerPackageId,\n",
    "        \"stickerId\": stickerId,\n",
    "        }\n",
    "        files={}\n",
    "        if image != None:\n",
    "            files = {\"imageFile\": open(image, \"rb\")}\n",
    "        r = requests.post(\n",
    "            url=LineNotifyAPI.url,\n",
    "            headers=self.__headers,\n",
    "            data=payload,\n",
    "            files=files,\n",
    "            )\n",
    "#from Notify_bot import LineNotifyAPI\n",
    "tome_token = 'eemHbY4riW0drjOwx9x2drcjszNEWM2mrbtWWXiIICs' \n",
    "bot = LineNotifyAPI(access_token=tome_token)\n",
    "bot.send(\n",
    "    message=\"Finished!\",\n",
    "    #image=\"/Users/yamadaikuya/Desktop/cat.png\",\n",
    "    stickerPackageId=1, \n",
    "    stickerId=10\n",
    "    )"
   ]
  }
 ],
 "metadata": {
  "kernelspec": {
   "display_name": "Python 3",
   "language": "python",
   "name": "python3"
  },
  "language_info": {
   "codemirror_mode": {
    "name": "ipython",
    "version": 3
   },
   "file_extension": ".py",
   "mimetype": "text/x-python",
   "name": "python",
   "nbconvert_exporter": "python",
   "pygments_lexer": "ipython3",
   "version": "3.6.8"
  }
 },
 "nbformat": 4,
 "nbformat_minor": 2
}
