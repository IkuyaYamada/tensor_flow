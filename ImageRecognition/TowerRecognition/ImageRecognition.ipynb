{
 "cells": [
  {
   "cell_type": "code",
   "execution_count": 1,
   "metadata": {},
   "outputs": [
    {
     "name": "stdout",
     "output_type": "stream",
     "text": [
      "/Users/yamadaikuya/gitrepos/tensor_flow/ImageRecognition/image\n"
     ]
    }
   ],
   "source": [
    "cd /Users/yamadaikuya/gitrepos/tensor_flow/ImageRecognition/image"
   ]
  },
  {
   "cell_type": "code",
   "execution_count": null,
   "metadata": {},
   "outputs": [],
   "source": [
    "import numpy as np\n",
    "from sklearn.model_selection import train_test_split \n",
    "import matplotlib.pyplot as plt\n",
    "import tensorflow as tf\n",
    "from tensorflow.python.framework import ops\n",
    "from PIL import Image\n",
    "%matplotlib inline\n",
    "from tqdm import tqdm_notebook as tqdm\n",
    "from IPython.core.display import display, HTML\n",
    "display(HTML(\"<style>.scroll_box { height:30em  !important; }</style>\"))"
   ]
  },
  {
   "cell_type": "code",
   "execution_count": null,
   "metadata": {},
   "outputs": [],
   "source": [
    "%%html\n",
    "<style>\n",
    ".output_wrapper, .output {\n",
    "    height:auto !important;\n",
    "    max-height:10000px;  /* your desired max-height here */\n",
    "}\n",
    ".output_scroll {\n",
    "    box-shadow:none !important;\n",
    "    webkit-box-shadow:none !important;\n",
    "}\n",
    "</style>"
   ]
  },
  {
   "cell_type": "code",
   "execution_count": null,
   "metadata": {},
   "outputs": [],
   "source": [
    "# Check the images\n",
    "tokyotower = []\n",
    "plt.figure(figsize=(20, 100))\n",
    "for i in range(150):\n",
    "    plt.subplot(30,5, i+1)\n",
    "    im = Image.open(\"tokyotower/tokyotower\" + str(i) + \".jpeg\")\n",
    "    im = im.resize((64, 64))\n",
    "    im_list = np.asarray(im)\n",
    "    plt.axis('off')\n",
    "    plt.title(str(i))\n",
    "    plt.imshow(im_list)\n",
    "    tokyotower.append(im_list.reshape(-1, 1))\n",
    "plt.show()\n",
    "tokyotower = np.array(tokyotower)"
   ]
  },
  {
   "cell_type": "code",
   "execution_count": null,
   "metadata": {},
   "outputs": [],
   "source": [
    "# Check the images\n",
    "skytree = []\n",
    "plt.figure(figsize=(20, 100))\n",
    "for i in range(150):\n",
    "    plt.subplot(30, 5, i+1)\n",
    "    im = Image.open(\"skytree/skytree\" + str(i) + \".jpeg\")\n",
    "    im = im.resize((64, 64))\n",
    "    im_list = np.asarray(im)\n",
    "    plt.axis('off')\n",
    "    plt.title(str(i))\n",
    "    plt.imshow(im_list)\n",
    "    skytree.append(im_list.reshape(-1, 1))\n",
    "plt.show()\n",
    "skytree = np.array(skytree)"
   ]
  },
  {
   "cell_type": "code",
   "execution_count": null,
   "metadata": {},
   "outputs": [],
   "source": [
    "# Check the images\n",
    "kyototower = []\n",
    "plt.figure(figsize=(20, 100))\n",
    "for i in range(150):\n",
    "    plt.subplot(30, 5, i+1)\n",
    "    im = Image.open(\"kyototower/kyototower\" + str(i) + \".jpeg\")\n",
    "    im = im.resize((64, 64))\n",
    "    im_list = np.asarray(im)\n",
    "    plt.axis('off')\n",
    "    plt.title(str(i))\n",
    "    plt.imshow(im_list)\n",
    "    kyototower.append(im_list.reshape(-1, 1))\n",
    "plt.show()\n",
    "kyototower = np.array(kyototower)"
   ]
  },
  {
   "cell_type": "code",
   "execution_count": null,
   "metadata": {},
   "outputs": [],
   "source": [
    "# flattening images\n",
    "def reshape(X):\n",
    "    X  = X.reshape(150, -1)\n",
    "    X = X / 255\n",
    "    return X\n",
    "\n",
    "ttower = reshape(tokyotower)\n",
    "stree = reshape(skytree)\n",
    "ktower = reshape(kyototower)"
   ]
  },
  {
   "cell_type": "code",
   "execution_count": null,
   "metadata": {},
   "outputs": [],
   "source": [
    "# delete the irrelevant images\n",
    "tokyotower_refined = np.delete(ttower, [17, 24, 41, 55, 101, 103, 107, 112, 114, 124, 130, 131, 141, 143,145], 0)\n",
    "skytree_refined = np.delete(stree, [32, 54, 58, 64, 76, 85, 95 ,91, 97, 98, 101, 106, 110, 111, 113, 126, 133, 134, 137, 143, 145, 148,149], 0)\n",
    "kyototower_refined = np.delete(ktower, [41, 44, 46, 48, 49, 54, 62, 78, 79, 88, 86, 92, 98, 99, 106, 109, 111, 113, 114, 115, 122, 126, 127, 131, 138, 143, 149], 0)\n",
    "X = np.concatenate([tokyotower_refined, skytree_refined, kyototower_refined])\n",
    "#X = np.concatenate([ttower, stree, ktower])\n",
    "X = X.reshape(X.shape[0], X.shape[1])\n",
    "X.shape"
   ]
  },
  {
   "cell_type": "code",
   "execution_count": null,
   "metadata": {},
   "outputs": [],
   "source": [
    "a = X[300].reshape(64, 64, 3)\n",
    "a = (a*255).astype(int)\n",
    "a\n",
    "plt.imshow(a)"
   ]
  },
  {
   "cell_type": "code",
   "execution_count": null,
   "metadata": {},
   "outputs": [],
   "source": [
    "# tokyo = 0, skytree = 1, kyoto = 2\n",
    "Y = np.zeros(len(tokyotower_refined) + len(skytree_refined) + len(kyototower_refined))\n",
    "Y[:len(tokyotower_refined)] = 0\n",
    "Y[len(tokyotower_refined): len(tokyotower_refined)+ len(skytree_refined)] = 1\n",
    "Y[-len(kyototower_refined):] = 2"
   ]
  },
  {
   "cell_type": "code",
   "execution_count": null,
   "metadata": {},
   "outputs": [],
   "source": [
    "# creating Training set / Test set\n",
    "def training(X, Y, seed=198, testsize=0.4):\n",
    "    X_train, X_test, Y_train, Y_test = train_test_split(\n",
    "        X, Y, test_size=testsize, random_state=seed\n",
    "    )\n",
    "    return X_train.T, Y_train.T, X_test.T, Y_test.T"
   ]
  },
  {
   "cell_type": "code",
   "execution_count": null,
   "metadata": {},
   "outputs": [],
   "source": [
    "# n_x, n_y = nbr of variables\n",
    "def create_placeholders(n_x, n_y):\n",
    "    X = tf.placeholder(dtype=tf.float32, shape=[n_x, None])\n",
    "    Y = tf.placeholder(dtype=tf.float32, shape=[n_y, None])\n",
    "    return X, Y"
   ]
  },
  {
   "cell_type": "code",
   "execution_count": null,
   "metadata": {},
   "outputs": [],
   "source": [
    "def one_hot(labels, C):\n",
    "    C = tf.constant(C, name=\"C\")\n",
    "    one_hot = tf.one_hot(labels, C, axis=0)\n",
    "    sess = tf.Session()\n",
    "    one_hot = sess.run(one_hot)\n",
    "    sess.close()\n",
    "    return one_hot"
   ]
  },
  {
   "cell_type": "code",
   "execution_count": null,
   "metadata": {},
   "outputs": [],
   "source": [
    "# initializing the parameters\n",
    "def initialize_parameters():\n",
    "    \n",
    "    tf.set_random_seed(198)\n",
    "    \n",
    "    W1 = tf.get_variable(\"W1\", [128, 64*64*3], initializer=tf.initializers.he_normal(seed=1))\n",
    "    b1 = tf.get_variable(\"b1\", [128, 1], initializer=tf.zeros_initializer())\n",
    "    W_ = tf.get_variable(\"W_\", [128, 128], initializer=tf.initializers.he_normal(seed=9))\n",
    "    b_ = tf.get_variable(\"b_\", [128, 1], initializer=tf.zeros_initializer())\n",
    "    W2 = tf.get_variable(\"W2\", [3, 128], initializer=tf.initializers.he_normal(seed=8))\n",
    "    b2 = tf.get_variable(\"b2\", [3, 1], initializer=tf.zeros_initializer())\n",
    "    \n",
    "    parameters={\n",
    "        \"W1\": W1,\n",
    "        \"b1\": b1,\n",
    "        \"W_\": W_,\n",
    "        \"b_\": b_,\n",
    "        \"W2\": W2,\n",
    "        \"b2\": b2\n",
    "    }\n",
    "    \n",
    "    return parameters"
   ]
  },
  {
   "cell_type": "code",
   "execution_count": null,
   "metadata": {},
   "outputs": [],
   "source": [
    "def forward_propagation(X, parameters):\n",
    "    # retrieve parameters\n",
    "    W1 = parameters['W1']\n",
    "    b1 = parameters['b1']\n",
    "    W_ = parameters['W_']\n",
    "    b_ = parameters['b_']\n",
    "    W2 = parameters['W2']\n",
    "    b2 = parameters['b2']\n",
    "    \n",
    "    Z1 = tf.add(tf.matmul(W1, X), b1)\n",
    "    A1 = tf.nn.relu(Z1)  \n",
    "    Z_ = tf.add(tf.matmul(W_, A1), b_)\n",
    "    A_ = tf.nn.relu(Z_)\n",
    "    Z2 = tf.add(tf.matmul(W2, A_), b2)\n",
    "    \n",
    "    return Z2"
   ]
  },
  {
   "cell_type": "code",
   "execution_count": null,
   "metadata": {},
   "outputs": [],
   "source": [
    "def compute_cost(Z2, Y):\n",
    "    logits = tf.transpose(Z2)\n",
    "    labels = tf.transpose(Y)\n",
    "    cost = tf.reduce_mean(tf.nn.softmax_cross_entropy_with_logits(logits=logits, labels=labels))\n",
    "    return cost"
   ]
  },
  {
   "cell_type": "code",
   "execution_count": null,
   "metadata": {},
   "outputs": [],
   "source": [
    "# L2 reguralization\n",
    "def l2(W1, W_, W2, lamda=0.01):\n",
    "    return lamda*(tf.nn.l2_loss(W1) + tf.nn.l2_loss(W_) + tf.nn.l2_loss(W2))"
   ]
  },
  {
   "cell_type": "code",
   "execution_count": null,
   "metadata": {},
   "outputs": [],
   "source": [
    "# check the behavior\n",
    "tf.reset_default_graph()\n",
    "sess = tf.Session()\n",
    "a, b = create_placeholders(64*64*3, 3)\n",
    "parameters = initialize_parameters()\n",
    "Z3 = forward_propagation(a, parameters)\n",
    "cost = compute_cost(Z3, b)\n",
    "print(\"Z2 = {}\".format(str(Z3)))\n",
    "print(\"cost = {}\".format(str(cost)))"
   ]
  },
  {
   "cell_type": "code",
   "execution_count": null,
   "metadata": {},
   "outputs": [],
   "source": [
    "# createing mini batches\n",
    "import random\n",
    "def create_minibatch(X, Y, batch_size, seed=198):\n",
    "    random.seed(seed)\n",
    "    X_batch = []\n",
    "    Y_batch = []\n",
    "    _ = [i for i in range(X.shape[1])]\n",
    "    random.shuffle(_)\n",
    "    X = X[:, _]\n",
    "    Y = Y[:, _]\n",
    "    num = X.shape[1] // batch_size\n",
    "    for i in range(num):\n",
    "        X_batch.append(X[:, i*num : i*num + batch_size])\n",
    "        Y_batch.append(Y[:, i*num : i*num + batch_size])\n",
    "    X_batch.append(X[:, num*batch_size : ])\n",
    "    Y_batch.append(Y[:, num*batch_size : ])\n",
    "    return X_batch, Y_batch, num+1"
   ]
  },
  {
   "cell_type": "code",
   "execution_count": null,
   "metadata": {},
   "outputs": [],
   "source": [
    "def model(X_train, Y_train, X_test, Y_test, num_epochs, learning_rate = 0.001, lamda=0.01,print_cost = True):\n",
    "    ops.reset_default_graph() # to be able to rerun the model without overwriting tf variables    \n",
    "    tf.set_random_seed(18)\n",
    "    (n_x, m) = X_train.shape\n",
    "    n_y = Y_train.shape[0]\n",
    "    costs = []    \n",
    "    costs_test = []\n",
    "    X, Y = create_placeholders(n_x, n_y)\n",
    "    parameters = initialize_parameters()\n",
    "    Z3 = forward_propagation(X, parameters)\n",
    "    W1= parameters[\"W1\"]\n",
    "    W_ = parameters[\"W_\"]\n",
    "    #W__ = parameters[\"W__\"]\n",
    "    W2 = parameters[\"W2\"]\n",
    "    L2 = l2(W1, W_, W2, lamda=lamda)\n",
    "    cost = compute_cost(Z3, Y)\n",
    "    cost = cost + L2\n",
    "    optimizer = tf.train.AdamOptimizer(learning_rate=learning_rate).minimize(cost)\n",
    "    init = tf.global_variables_initializer()\n",
    "    sess = tf.Session()\n",
    "    sess.run(init)\n",
    "    \n",
    "     # Calculate the correct predictions\n",
    "    correct_prediction = tf.equal(tf.argmax(Z3), tf.argmax(Y))\n",
    "\n",
    "    # Calculate accuracy on the test set\n",
    "    accuracy = tf.reduce_mean(tf.cast(correct_prediction, \"float\"))\n",
    "        \n",
    "    flag = False\n",
    "    epoch_seed = 0\n",
    "    for epoch in tqdm(range(num_epochs+1)):\n",
    "        epoch_cost = 0\n",
    "        x, y, n = create_minibatch(X_train, Y_train, batch_size=30, seed=epoch_seed)\n",
    "        for i, k in zip(x, y):\n",
    "            _, c = sess.run([optimizer, cost], feed_dict={X: i, Y: k})\n",
    "            epoch_cost += c/n\n",
    "        if epoch % 10 == 0:\n",
    "            epoch_acc = 1 - (accuracy.eval({X: X_train, Y: Y_train}, session=sess))\n",
    "            costs.append(epoch_acc)\n",
    "            test_acc = 1 - (accuracy.eval({X: X_test, Y: Y_test}, session=sess))\n",
    "            #if epoch>20 and test_acc > costs_test[-1] and costs_test[-1] > costs_test[-2]:\n",
    "                #flag = False\n",
    "                #print(\"Early Stop! {}\".format(str(epoch)))\n",
    "                #break\n",
    "            costs_test.append(test_acc)\n",
    "        if epoch % 200==0 and print_cost==True:\n",
    "            print(\"Accuracy after epoch %i: %f\"%(epoch, 1-epoch_acc))\n",
    "            print(\"Test Accuracy after epoch %i: %f\"%(epoch, 1-test_acc))\n",
    "        epoch_seed += 1\n",
    "        #if flag:\n",
    "            #break        \n",
    "        \n",
    "        \n",
    "    # plot the cost\n",
    "    plt.plot(np.squeeze(costs), c=\"blue\")\n",
    "    plt.plot(np.squeeze(costs_test), c=\"orange\")\n",
    "    plt.ylim(0, 1)\n",
    "    plt.ylabel('ratio of misclassification')\n",
    "    plt.xlabel('epoches (per tens)')\n",
    "    plt.title(\"Learning rate = {} \\nlambda = {}\".format(str(learning_rate), str(lamda)))\n",
    "    plt.show()\n",
    "    \n",
    "    # lets save the parameters in a variable\n",
    "    parameters = sess.run(parameters)\n",
    "    print (\"Parameters have been trained!\")\n",
    "    \n",
    "    print (\"Train Accuracy:\", accuracy.eval({X: X_train, Y: Y_train}, session=sess))\n",
    "    print (\"Test Accuracy:\", accuracy.eval({X: X_test, Y: Y_test}, session=sess))\n",
    "    \n",
    "    output = correct_prediction\n",
    "\n",
    "    return parameters, output"
   ]
  },
  {
   "cell_type": "code",
   "execution_count": null,
   "metadata": {},
   "outputs": [],
   "source": [
    "X_train, Y_train, X_test, Y_test = training(X, Y, seed=4, testsize=0.2)\n",
    "Y_train = one_hot(Y_train, 3)\n",
    "Y_test = one_hot(Y_test, 3)"
   ]
  },
  {
   "cell_type": "code",
   "execution_count": 23,
   "metadata": {},
   "outputs": [
    {
     "data": {
      "application/vnd.jupyter.widget-view+json": {
       "model_id": "beb416903e1e4331badb4625e8f6bffa",
       "version_major": 2,
       "version_minor": 0
      },
      "text/plain": [
       "HBox(children=(IntProgress(value=0, max=5001), HTML(value='')))"
      ]
     },
     "metadata": {},
     "output_type": "display_data"
    },
    {
     "data": {
      "image/png": "[encoded data removed]",
      "text/plain": [
       "<Figure size 432x288 with 1 Axes>"
      ]
     },
     "metadata": {
      "needs_background": "light"
     },
     "output_type": "display_data"
    },
    {
     "name": "stdout",
     "output_type": "stream",
     "text": [
      "Parameters have been trained!\n",
      "Train Accuracy: 0.9935065\n",
      "Test Accuracy: 0.6103896\n"
     ]
    },
    {
     "data": {
      "application/vnd.jupyter.widget-view+json": {
       "model_id": "718c8c7880124974a537f9c0ab49f96a",
       "version_major": 2,
       "version_minor": 0
      },
      "text/plain": [
       "HBox(children=(IntProgress(value=0, max=5001), HTML(value='')))"
      ]
     },
     "metadata": {},
     "output_type": "display_data"
    },
    {
     "data": {
      "image/png": "[encoded data removed]",
      "text/plain": [
       "<Figure size 432x288 with 1 Axes>"
      ]
     },
     "metadata": {
      "needs_background": "light"
     },
     "output_type": "display_data"
    },
    {
     "name": "stdout",
     "output_type": "stream",
     "text": [
      "Parameters have been trained!\n",
      "Train Accuracy: 0.8733766\n",
      "Test Accuracy: 0.5714286\n"
     ]
    }
   ],
   "source": [
    "tf.Graph.clear_collection\n",
    "for i, k in zip([ 0.00001]*2, [1, 2]):\n",
    "    model(X_train, Y_train, X_test, Y_test, num_epochs=5000, learning_rate=i, lamda=k, print_cost=False)"
   ]
  }
 ],
 "metadata": {
  "kernelspec": {
   "display_name": "Python 3",
   "language": "python",
   "name": "python3"
  },
  "language_info": {
   "codemirror_mode": {
    "name": "ipython",
    "version": 3
   },
   "file_extension": ".py",
   "mimetype": "text/x-python",
   "name": "python",
   "nbconvert_exporter": "python",
   "pygments_lexer": "ipython3",
   "version": "3.6.8"
  }
 },
 "nbformat": 4,
 "nbformat_minor": 2
}
